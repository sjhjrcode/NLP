{
 "cells": [
  {
   "cell_type": "code",
   "execution_count": 9,
   "metadata": {},
   "outputs": [],
   "source": [
    "import os\n",
    "import sys\n",
    "\n",
    "from pyspark.sql import SparkSession\n",
    "from pyspark.ml import Pipeline\n",
    "\n",
    "from sparknlp.annotator import *\n",
    "from sparknlp.common import *\n",
    "from sparknlp.base import *\n",
    "\n",
    "import time\n",
    "import zipfile\n"
   ]
  },
  {
   "cell_type": "code",
   "execution_count": 10,
   "metadata": {},
   "outputs": [],
   "source": [
    "\n",
    "\n",
    "# Download CoNLL 2003 Dataset\n",
    "import os\n",
    "from pathlib import Path\n",
    "import urllib.request\n",
    "\n",
    "#if not Path(\"eng.train\").is_file():\n",
    "#    print(\"File Not found will downloading it!\")\n",
    "#    url = \"https://github.com/patverga/torch-ner-nlp-from-scratch/raw/master/data/conll2003/eng.train\"\n",
    "#    urllib.request.urlretrieve(url, 'eng.train')\n",
    "#else:\n",
    "#    print(\"File already present.\")\n",
    "\n"
   ]
  },
  {
   "cell_type": "code",
   "execution_count": 11,
   "metadata": {},
   "outputs": [
    {
     "name": "stdout",
     "output_type": "stream",
     "text": [
      "Spark NLP version:  4.1.0\n",
      "Apache Spark version:  3.2.1\n"
     ]
    }
   ],
   "source": [
    "import sparknlp \n",
    "\n",
    "spark = sparknlp.start()\n",
    "\n",
    "print(\"Spark NLP version: \", sparknlp.version())\n",
    "print(\"Apache Spark version: \", spark.version)"
   ]
  },
  {
   "cell_type": "code",
   "execution_count": 12,
   "metadata": {},
   "outputs": [],
   "source": [
    "nerTagger = NerCrfApproach()\\\n",
    "  .setInputCols([\"sentence\", \"token\", \"embeddings\"])\\\n",
    "  .setLabelColumn(\"label\")\\\n",
    "  .setOutputCol(\"ner\")\\\n",
    "  .setMinEpochs(1)\\\n",
    "  .setMaxEpochs(1)\\\n",
    "  .setLossEps(1e-3)\\\n",
    "  .setL2(1)\\\n",
    "  .setC0(1250000)\\\n",
    "  .setRandomSeed(0)\\\n",
    "  .setVerbose(0)\n"
   ]
  },
  {
   "cell_type": "code",
   "execution_count": 13,
   "metadata": {},
   "outputs": [
    {
     "name": "stdout",
     "output_type": "stream",
     "text": [
      "glove_100d download started this may take some time.\n",
      "Approximate size to download 145.3 MB\n",
      "[OK!]\n",
      "+------------+--------------------+--------------------+--------------------+--------------------+--------------------+--------------------+\n",
      "|        text|            document|            sentence|               token|                 pos|               label|          embeddings|\n",
      "+------------+--------------------+--------------------+--------------------+--------------------+--------------------+--------------------+\n",
      "|        make|[{document, 0, 3,...|[{document, 0, 3,...|[{token, 0, 3, ma...|[{pos, 0, 3, 0, {...|[{named_entity, 0...|[{word_embeddings...|\n",
      "|         can|[{document, 0, 2,...|[{document, 0, 2,...|[{token, 0, 2, ca...|[{pos, 0, 2, 0, {...|[{named_entity, 0...|[{word_embeddings...|\n",
      "|          do|[{document, 0, 1,...|[{document, 0, 1,...|[{token, 0, 1, do...|[{pos, 0, 1, 0, {...|[{named_entity, 0...|[{word_embeddings...|\n",
      "|        read|[{document, 0, 3,...|[{document, 0, 3,...|[{token, 0, 3, re...|[{pos, 0, 3, 0, {...|[{named_entity, 0...|[{word_embeddings...|\n",
      "|       write|[{document, 0, 4,...|[{document, 0, 4,...|[{token, 0, 4, wr...|[{pos, 0, 4, 0, {...|[{named_entity, 0...|[{word_embeddings...|\n",
      "|        talk|[{document, 0, 3,...|[{document, 0, 3,...|[{token, 0, 3, ta...|[{pos, 0, 3, 0, {...|[{named_entity, 0...|[{word_embeddings...|\n",
      "|        want|[{document, 0, 3,...|[{document, 0, 3,...|[{token, 0, 3, wa...|[{pos, 0, 3, 0, {...|[{named_entity, 0...|[{word_embeddings...|\n",
      "|        cook|[{document, 0, 3,...|[{document, 0, 3,...|[{token, 0, 3, co...|[{pos, 0, 3, 0, {...|[{named_entity, 0...|[{word_embeddings...|\n",
      "|        brew|[{document, 0, 3,...|[{document, 0, 3,...|[{token, 0, 3, br...|[{pos, 0, 3, 0, {...|[{named_entity, 0...|[{word_embeddings...|\n",
      "|       clean|[{document, 0, 4,...|[{document, 0, 4,...|[{token, 0, 4, cl...|[{pos, 0, 4, 0, {...|[{named_entity, 0...|[{word_embeddings...|\n",
      "|       brush|[{document, 0, 4,...|[{document, 0, 4,...|[{token, 0, 4, br...|[{pos, 0, 4, 0, {...|[{named_entity, 0...|[{word_embeddings...|\n",
      "|        care|[{document, 0, 3,...|[{document, 0, 3,...|[{token, 0, 3, ca...|[{pos, 0, 3, 0, {...|[{named_entity, 0...|[{word_embeddings...|\n",
      "|        walk|[{document, 0, 3,...|[{document, 0, 3,...|[{token, 0, 3, wa...|[{pos, 0, 3, 0, {...|[{named_entity, 0...|[{word_embeddings...|\n",
      "|          go|[{document, 0, 1,...|[{document, 0, 1,...|[{token, 0, 1, go...|[{pos, 0, 1, 0, {...|[{named_entity, 0...|[{word_embeddings...|\n",
      "|    navigate|[{document, 0, 7,...|[{document, 0, 7,...|[{token, 0, 7, na...|[{pos, 0, 7, 0, {...|[{named_entity, 0...|[{word_embeddings...|\n",
      "|    activity|[{document, 0, 7,...|[{document, 0, 7,...|[{token, 0, 7, ac...|[{pos, 0, 7, 0, {...|[{named_entity, 0...|[{word_embeddings...|\n",
      "|       write|[{document, 0, 4,...|[{document, 0, 4,...|[{token, 0, 4, wr...|[{pos, 0, 4, 0, {...|[{named_entity, 0...|[{word_embeddings...|\n",
      "|        move|[{document, 0, 3,...|[{document, 0, 3,...|[{token, 0, 3, mo...|[{pos, 0, 3, 0, {...|[{named_entity, 0...|[{word_embeddings...|\n",
      "|        fall|[{document, 0, 3,...|[{document, 0, 3,...|[{token, 0, 3, fa...|[{pos, 0, 3, 0, {...|[{named_entity, 0...|[{word_embeddings...|\n",
      "|          up|[{document, 0, 1,...|[{document, 0, 1,...|[{token, 0, 1, up...|[{pos, 0, 1, 0, {...|[{named_entity, 0...|[{word_embeddings...|\n",
      "|        down|[{document, 0, 3,...|[{document, 0, 3,...|[{token, 0, 3, do...|[{pos, 0, 3, 0, {...|[{named_entity, 0...|[{word_embeddings...|\n",
      "|        hold|[{document, 0, 3,...|[{document, 0, 3,...|[{token, 0, 3, ho...|[{pos, 0, 3, 0, {...|[{named_entity, 0...|[{word_embeddings...|\n",
      "|       sweep|[{document, 0, 4,...|[{document, 0, 4,...|[{token, 0, 4, sw...|[{pos, 0, 4, 0, {...|[{named_entity, 0...|[{word_embeddings...|\n",
      "|    backward|[{document, 0, 7,...|[{document, 0, 7,...|[{token, 0, 7, ba...|[{pos, 0, 7, 0, {...|[{named_entity, 0...|[{word_embeddings...|\n",
      "|     forward|[{document, 0, 6,...|[{document, 0, 6,...|[{token, 0, 6, fo...|[{pos, 0, 6, 0, {...|[{named_entity, 0...|[{word_embeddings...|\n",
      "|        left|[{document, 0, 3,...|[{document, 0, 3,...|[{token, 0, 3, le...|[{pos, 0, 3, 0, {...|[{named_entity, 0...|[{word_embeddings...|\n",
      "|       right|[{document, 0, 4,...|[{document, 0, 4,...|[{token, 0, 4, ri...|[{pos, 0, 4, 0, {...|[{named_entity, 0...|[{word_embeddings...|\n",
      "|    location|[{document, 0, 7,...|[{document, 0, 7,...|[{token, 0, 7, lo...|[{pos, 0, 7, 0, {...|[{named_entity, 0...|[{word_embeddings...|\n",
      "|     kitchen|[{document, 0, 6,...|[{document, 0, 6,...|[{token, 0, 6, ki...|[{pos, 0, 6, 0, {...|[{named_entity, 0...|[{word_embeddings...|\n",
      "|      living|[{document, 0, 5,...|[{document, 0, 5,...|[{token, 0, 5, li...|[{pos, 0, 5, room...|[{named_entity, 0...|[{word_embeddings...|\n",
      "|     bedroom|[{document, 0, 6,...|[{document, 0, 6,...|[{token, 0, 6, be...|[{pos, 0, 6, 0, {...|[{named_entity, 0...|[{word_embeddings...|\n",
      "|      dining|[{document, 0, 5,...|[{document, 0, 5,...|[{token, 0, 5, di...|[{pos, 0, 5, room...|[{named_entity, 0...|[{word_embeddings...|\n",
      "|    bathroom|[{document, 0, 7,...|[{document, 0, 7,...|[{token, 0, 7, ba...|[{pos, 0, 7, 0, {...|[{named_entity, 0...|[{word_embeddings...|\n",
      "|    basement|[{document, 0, 7,...|[{document, 0, 7,...|[{token, 0, 7, ba...|[{pos, 0, 7, 0, {...|[{named_entity, 0...|[{word_embeddings...|\n",
      "|     laundry|[{document, 0, 6,...|[{document, 0, 6,...|[{token, 0, 6, la...|[{pos, 0, 6, room...|[{named_entity, 0...|[{word_embeddings...|\n",
      "|       attic|[{document, 0, 4,...|[{document, 0, 4,...|[{token, 0, 4, at...|[{pos, 0, 4, 0, {...|[{named_entity, 0...|[{word_embeddings...|\n",
      "|         den|[{document, 0, 2,...|[{document, 0, 2,...|[{token, 0, 2, de...|[{pos, 0, 2, 0, {...|[{named_entity, 0...|[{word_embeddings...|\n",
      "|     hallway|[{document, 0, 6,...|[{document, 0, 6,...|[{token, 0, 6, ha...|[{pos, 0, 6, 0, {...|[{named_entity, 0...|[{word_embeddings...|\n",
      "|      garage|[{document, 0, 5,...|[{document, 0, 5,...|[{token, 0, 5, ga...|[{pos, 0, 5, 0, {...|[{named_entity, 0...|[{word_embeddings...|\n",
      "|     sunroom|[{document, 0, 6,...|[{document, 0, 6,...|[{token, 0, 6, su...|[{pos, 0, 6, 0, {...|[{named_entity, 0...|[{word_embeddings...|\n",
      "|      pantry|[{document, 0, 5,...|[{document, 0, 5,...|[{token, 0, 5, pa...|[{pos, 0, 5, 0, {...|[{named_entity, 0...|[{word_embeddings...|\n",
      "|      closet|[{document, 0, 5,...|[{document, 0, 5,...|[{token, 0, 5, cl...|[{pos, 0, 5, 0, {...|[{named_entity, 0...|[{word_embeddings...|\n",
      "|      parlor|[{document, 0, 5,...|[{document, 0, 5,...|[{token, 0, 5, pa...|[{pos, 0, 5, 0, {...|[{named_entity, 0...|[{word_embeddings...|\n",
      "|    entryway|[{document, 0, 7,...|[{document, 0, 7,...|[{token, 0, 7, en...|[{pos, 0, 7, 0, {...|[{named_entity, 0...|[{word_embeddings...|\n",
      "|       lobby|[{document, 0, 4,...|[{document, 0, 4,...|[{token, 0, 4, lo...|[{pos, 0, 4, 0, {...|[{named_entity, 0...|[{word_embeddings...|\n",
      "|      cellar|[{document, 0, 5,...|[{document, 0, 5,...|[{token, 0, 5, ce...|[{pos, 0, 5, 0, {...|[{named_entity, 0...|[{word_embeddings...|\n",
      "|        loft|[{document, 0, 3,...|[{document, 0, 3,...|[{token, 0, 3, lo...|[{pos, 0, 3, 0, {...|[{named_entity, 0...|[{word_embeddings...|\n",
      "|     nursery|[{document, 0, 6,...|[{document, 0, 6,...|[{token, 0, 6, nu...|[{pos, 0, 6, 0, {...|[{named_entity, 0...|[{word_embeddings...|\n",
      "|      coffee|[{document, 0, 5,...|[{document, 0, 5,...|[{token, 0, 5, co...|[{pos, 0, 5, 0, {...|[{named_entity, 0...|[{word_embeddings...|\n",
      "|        food|[{document, 0, 3,...|[{document, 0, 3,...|[{token, 0, 3, fo...|[{pos, 0, 3, 0, {...|[{named_entity, 0...|[{word_embeddings...|\n",
      "|      washer|[{document, 0, 5,...|[{document, 0, 5,...|[{token, 0, 5, wa...|[{pos, 0, 5, 0, {...|[{named_entity, 0...|[{word_embeddings...|\n",
      "|       dryer|[{document, 0, 4,...|[{document, 0, 4,...|[{token, 0, 4, dr...|[{pos, 0, 4, 0, {...|[{named_entity, 0...|[{word_embeddings...|\n",
      "|       stove|[{document, 0, 4,...|[{document, 0, 4,...|[{token, 0, 4, st...|[{pos, 0, 4, 0, {...|[{named_entity, 0...|[{word_embeddings...|\n",
      "|        oven|[{document, 0, 3,...|[{document, 0, 3,...|[{token, 0, 3, ov...|[{pos, 0, 3, 0, {...|[{named_entity, 0...|[{word_embeddings...|\n",
      "|   microwave|[{document, 0, 8,...|[{document, 0, 8,...|[{token, 0, 8, mi...|[{pos, 0, 8, 0, {...|[{named_entity, 0...|[{word_embeddings...|\n",
      "|       spoon|[{document, 0, 4,...|[{document, 0, 4,...|[{token, 0, 4, sp...|[{pos, 0, 4, 0, {...|[{named_entity, 0...|[{word_embeddings...|\n",
      "|        fork|[{document, 0, 3,...|[{document, 0, 3,...|[{token, 0, 3, fo...|[{pos, 0, 3, 0, {...|[{named_entity, 0...|[{word_embeddings...|\n",
      "|       knife|[{document, 0, 4,...|[{document, 0, 4,...|[{token, 0, 4, kn...|[{pos, 0, 4, 0, {...|[{named_entity, 0...|[{word_embeddings...|\n",
      "|        sofa|[{document, 0, 3,...|[{document, 0, 3,...|[{token, 0, 3, so...|[{pos, 0, 3, 0, {...|[{named_entity, 0...|[{word_embeddings...|\n",
      "|       couch|[{document, 0, 4,...|[{document, 0, 4,...|[{token, 0, 4, co...|[{pos, 0, 4, 0, {...|[{named_entity, 0...|[{word_embeddings...|\n",
      "|  television|[{document, 0, 9,...|[{document, 0, 9,...|[{token, 0, 9, te...|[{pos, 0, 9, 0, {...|[{named_entity, 0...|[{word_embeddings...|\n",
      "|      pillow|[{document, 0, 5,...|[{document, 0, 5,...|[{token, 0, 5, pi...|[{pos, 0, 5, 0, {...|[{named_entity, 0...|[{word_embeddings...|\n",
      "|      sheets|[{document, 0, 5,...|[{document, 0, 5,...|[{token, 0, 5, sh...|[{pos, 0, 5, 0, {...|[{named_entity, 0...|[{word_embeddings...|\n",
      "|     dresser|[{document, 0, 6,...|[{document, 0, 6,...|[{token, 0, 6, dr...|[{pos, 0, 6, 0, {...|[{named_entity, 0...|[{word_embeddings...|\n",
      "|     clothes|[{document, 0, 6,...|[{document, 0, 6,...|[{token, 0, 6, cl...|[{pos, 0, 6, 0, {...|[{named_entity, 0...|[{word_embeddings...|\n",
      "|       shirt|[{document, 0, 4,...|[{document, 0, 4,...|[{token, 0, 4, sh...|[{pos, 0, 4, 0, {...|[{named_entity, 0...|[{word_embeddings...|\n",
      "|       pants|[{document, 0, 4,...|[{document, 0, 4,...|[{token, 0, 4, pa...|[{pos, 0, 4, 0, {...|[{named_entity, 0...|[{word_embeddings...|\n",
      "|      shorts|[{document, 0, 5,...|[{document, 0, 5,...|[{token, 0, 5, sh...|[{pos, 0, 5, 0, {...|[{named_entity, 0...|[{word_embeddings...|\n",
      "|       shoes|[{document, 0, 4,...|[{document, 0, 4,...|[{token, 0, 4, sh...|[{pos, 0, 4, 0, {...|[{named_entity, 0...|[{word_embeddings...|\n",
      "|       socks|[{document, 0, 4,...|[{document, 0, 4,...|[{token, 0, 4, so...|[{pos, 0, 4, 0, {...|[{named_entity, 0...|[{word_embeddings...|\n",
      "|         hat|[{document, 0, 2,...|[{document, 0, 2,...|[{token, 0, 2, ha...|[{pos, 0, 2, 0, {...|[{named_entity, 0...|[{word_embeddings...|\n",
      "|      toilet|[{document, 0, 5,...|[{document, 0, 5,...|[{token, 0, 5, to...|[{pos, 0, 5, 0, {...|[{named_entity, 0...|[{word_embeddings...|\n",
      "|  toothbrush|[{document, 0, 9,...|[{document, 0, 9,...|[{token, 0, 9, to...|[{pos, 0, 9, 0, {...|[{named_entity, 0...|[{word_embeddings...|\n",
      "|        sink|[{document, 0, 3,...|[{document, 0, 3,...|[{token, 0, 3, si...|[{pos, 0, 3, 0, {...|[{named_entity, 0...|[{word_embeddings...|\n",
      "|         pot|[{document, 0, 2,...|[{document, 0, 2,...|[{token, 0, 2, po...|[{pos, 0, 2, 0, {...|[{named_entity, 0...|[{word_embeddings...|\n",
      "|      shower|[{document, 0, 5,...|[{document, 0, 5,...|[{token, 0, 5, sh...|[{pos, 0, 5, 0, {...|[{named_entity, 0...|[{word_embeddings...|\n",
      "|      mirror|[{document, 0, 5,...|[{document, 0, 5,...|[{token, 0, 5, mi...|[{pos, 0, 5, 0, {...|[{named_entity, 0...|[{word_embeddings...|\n",
      "|       phone|[{document, 0, 4,...|[{document, 0, 4,...|[{token, 0, 4, ph...|[{pos, 0, 4, 0, {...|[{named_entity, 0...|[{word_embeddings...|\n",
      "|       glass|[{document, 0, 4,...|[{document, 0, 4,...|[{token, 0, 4, gl...|[{pos, 0, 4, 0, {...|[{named_entity, 0...|[{word_embeddings...|\n",
      "|      drawer|[{document, 0, 5,...|[{document, 0, 5,...|[{token, 0, 5, dr...|[{pos, 0, 5, 0, {...|[{named_entity, 0...|[{word_embeddings...|\n",
      "|refrigorator|[{document, 0, 11...|[{document, 0, 11...|[{token, 0, 11, r...|[{pos, 0, 11, 0, ...|[{named_entity, 0...|[{word_embeddings...|\n",
      "|         fan|[{document, 0, 2,...|[{document, 0, 2,...|[{token, 0, 2, fa...|[{pos, 0, 2, 0, {...|[{named_entity, 0...|[{word_embeddings...|\n",
      "|         air|[{document, 0, 2,...|[{document, 0, 2,...|[{token, 0, 2, ai...|[{pos, 0, 2, cond...|[{named_entity, 0...|[{word_embeddings...|\n",
      "|       table|[{document, 0, 4,...|[{document, 0, 4,...|[{token, 0, 4, ta...|[{pos, 0, 4, 0, {...|[{named_entity, 0...|[{word_embeddings...|\n",
      "|       chair|[{document, 0, 4,...|[{document, 0, 4,...|[{token, 0, 4, ch...|[{pos, 0, 4, 0, {...|[{named_entity, 0...|[{word_embeddings...|\n",
      "|         pet|[{document, 0, 2,...|[{document, 0, 2,...|[{token, 0, 2, pe...|[{pos, 0, 2, 0, {...|[{named_entity, 0...|[{word_embeddings...|\n",
      "|        meal|[{document, 0, 3,...|[{document, 0, 3,...|[{token, 0, 3, me...|[{pos, 0, 3, 0, {...|[{named_entity, 0...|[{word_embeddings...|\n",
      "|   breakfast|[{document, 0, 8,...|[{document, 0, 8,...|[{token, 0, 8, br...|[{pos, 0, 8, 0, {...|[{named_entity, 0...|[{word_embeddings...|\n",
      "|       lunch|[{document, 0, 4,...|[{document, 0, 4,...|[{token, 0, 4, lu...|[{pos, 0, 4, 0, {...|[{named_entity, 0...|[{word_embeddings...|\n",
      "|       super|[{document, 0, 4,...|[{document, 0, 4,...|[{token, 0, 4, su...|[{pos, 0, 4, , {w...|[{named_entity, 0...|[{word_embeddings...|\n",
      "|      dinner|[{document, 0, 5,...|[{document, 0, 5,...|[{token, 0, 5, di...|[{pos, 0, 5, 0, {...|[{named_entity, 0...|[{word_embeddings...|\n",
      "|       fruit|[{document, 0, 4,...|[{document, 0, 4,...|[{token, 0, 4, fr...|[{pos, 0, 4, 0, {...|[{named_entity, 0...|[{word_embeddings...|\n",
      "|   vegetable|[{document, 0, 8,...|[{document, 0, 8,...|[{token, 0, 8, ve...|[{pos, 0, 8, 0, {...|[{named_entity, 0...|[{word_embeddings...|\n",
      "|        meat|[{document, 0, 3,...|[{document, 0, 3,...|[{token, 0, 3, me...|[{pos, 0, 3, 0, {...|[{named_entity, 0...|[{word_embeddings...|\n",
      "|         yes|[{document, 0, 2,...|[{document, 0, 2,...|[{token, 0, 2, ye...|[{pos, 0, 2, 0, {...|[{named_entity, 0...|[{word_embeddings...|\n",
      "|     correct|[{document, 0, 6,...|[{document, 0, 6,...|[{token, 0, 6, co...|[{pos, 0, 6, 0, {...|[{named_entity, 0...|[{word_embeddings...|\n",
      "|    positive|[{document, 0, 7,...|[{document, 0, 7,...|[{token, 0, 7, po...|[{pos, 0, 7, 0, {...|[{named_entity, 0...|[{word_embeddings...|\n",
      "|      agreed|[{document, 0, 5,...|[{document, 0, 5,...|[{token, 0, 5, ag...|[{pos, 0, 5, 0, {...|[{named_entity, 0...|[{word_embeddings...|\n",
      "|    disagree|[{document, 0, 7,...|[{document, 0, 7,...|[{token, 0, 7, di...|[{pos, 0, 7, 0, {...|[{named_entity, 0...|[{word_embeddings...|\n",
      "|          no|[{document, 0, 1,...|[{document, 0, 1,...|[{token, 0, 1, no...|[{pos, 0, 1, 0, {...|[{named_entity, 0...|[{word_embeddings...|\n",
      "+------------+--------------------+--------------------+--------------------+--------------------+--------------------+--------------------+\n",
      "only showing top 100 rows\n",
      "\n"
     ]
    }
   ],
   "source": [
    "from sparknlp.training import CoNLL\n",
    "conll = CoNLL()\n",
    "data = conll.readDataset(spark, path='eng_custom.train')\n",
    "\n",
    "embeddings = WordEmbeddingsModel.pretrained()\\\n",
    ".setOutputCol('embeddings')\n",
    "\n",
    "ready_data = embeddings.transform(data)\n",
    "\n",
    "ready_data.show(100)\n"
   ]
  },
  {
   "cell_type": "code",
   "execution_count": 14,
   "metadata": {},
   "outputs": [
    {
     "name": "stdout",
     "output_type": "stream",
     "text": [
      "Start fitting\n",
      "Fitting has ended\n",
      "0.31803321838378906\n"
     ]
    }
   ],
   "source": [
    "start = time.time()\n",
    "print(\"Start fitting\")\n",
    "ner_model = nerTagger.fit(ready_data)\n",
    "print(\"Fitting has ended\")\n",
    "print (time.time() - start)\n"
   ]
  },
  {
   "cell_type": "code",
   "execution_count": 17,
   "metadata": {},
   "outputs": [],
   "source": [
    "ner_model.write().overwrite().save(\"./pip_wo_embedd/\")\n",
    "import shutil\n",
    "\n",
    "#shutil.make_archive(\"./pip_wo_embedd/\", 'zip', \"/pip_wo_embedd/\")"
   ]
  },
  {
   "cell_type": "code",
   "execution_count": 24,
   "metadata": {},
   "outputs": [
    {
     "ename": "AttributeError",
     "evalue": "'NerCrfModel' object has no attribute 'annotate'",
     "output_type": "error",
     "traceback": [
      "\u001b[0;31m---------------------------------------------------------------------------\u001b[0m",
      "\u001b[0;31mAttributeError\u001b[0m                            Traceback (most recent call last)",
      "Input \u001b[0;32mIn [24]\u001b[0m, in \u001b[0;36m<cell line: 2>\u001b[0;34m()\u001b[0m\n\u001b[1;32m      1\u001b[0m model \u001b[38;5;241m=\u001b[39m NerCrfModel\u001b[38;5;241m.\u001b[39mload(\u001b[38;5;124m\"\u001b[39m\u001b[38;5;124m./pip_wo_embedd/\u001b[39m\u001b[38;5;124m\"\u001b[39m)\n\u001b[0;32m----> 2\u001b[0m result \u001b[38;5;241m=\u001b[39m \u001b[43mmodel\u001b[49m\u001b[38;5;241;43m.\u001b[39;49m\u001b[43mannotate\u001b[49m(\u001b[38;5;124m\"\u001b[39m\u001b[38;5;124mNavigate to kitchen\u001b[39m\u001b[38;5;124m\"\u001b[39m)\n\u001b[1;32m      4\u001b[0m \u001b[38;5;28mprint\u001b[39m(result[\u001b[38;5;124m'\u001b[39m\u001b[38;5;124mner\u001b[39m\u001b[38;5;124m'\u001b[39m])\n\u001b[1;32m      5\u001b[0m \u001b[38;5;28mprint\u001b[39m(result[\u001b[38;5;124m'\u001b[39m\u001b[38;5;124mentities\u001b[39m\u001b[38;5;124m'\u001b[39m])\n",
      "\u001b[0;31mAttributeError\u001b[0m: 'NerCrfModel' object has no attribute 'annotate'"
     ]
    }
   ],
   "source": [
    "\n",
    "model = NerCrfModel.load(\"./pip_wo_embedd/\")\n",
    "result = model.annotate(\"Navigate to kitchen\")\n",
    "\n",
    "print(result['ner'])\n",
    "print(result['entities'])"
   ]
  },
  {
   "cell_type": "code",
   "execution_count": null,
   "metadata": {},
   "outputs": [],
   "source": []
  }
 ],
 "metadata": {
  "kernelspec": {
   "display_name": "Python 3 (ipykernel)",
   "language": "python",
   "name": "python3"
  },
  "language_info": {
   "codemirror_mode": {
    "name": "ipython",
    "version": 3
   },
   "file_extension": ".py",
   "mimetype": "text/x-python",
   "name": "python",
   "nbconvert_exporter": "python",
   "pygments_lexer": "ipython3",
   "version": "3.9.12"
  },
  "vscode": {
   "interpreter": {
    "hash": "916dbcbb3f70747c44a77c7bcd40155683ae19c65e1c03b4aa3499c5328201f1"
   }
  }
 },
 "nbformat": 4,
 "nbformat_minor": 2
}
